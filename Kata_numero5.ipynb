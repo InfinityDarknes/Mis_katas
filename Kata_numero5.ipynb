{
 "cells": [
  {
   "cell_type": "markdown",
   "metadata": {},
   "source": [
    "# <center>Operaciones Matematicos Kata #5</center>"
   ]
  },
  {
   "cell_type": "markdown",
   "metadata": {},
   "source": [
    "## Ejercicio 1 Utilizar operadores aritméticos"
   ]
  },
  {
   "cell_type": "markdown",
   "metadata": {},
   "source": [
    "Exploremos cómo podemos crear un programa que pueda calcular la distancia entre dos planetas. Comenzaremos usando dos distancias de planetas: Tierra (149.597.870 km) y Júpiter (778.547.200 km)."
   ]
  },
  {
   "cell_type": "code",
   "execution_count": 19,
   "metadata": {},
   "outputs": [
    {
     "name": "stdout",
     "output_type": "stream",
     "text": [
      "la distancia entre jupiter y la tierra es de: 628949330 Km\n",
      "La distancia entre jupiter y la tierra en Millas es de: 390577533.93 m\n"
     ]
    }
   ],
   "source": [
    "distancia_Tierra = 149597870 #Km\n",
    "distancia_Jupiter = 778547200 #Km\n",
    "#Hacemos la operacion matematica\n",
    "distancia_entre_planetas = distancia_Tierra - distancia_Jupiter\n",
    "distancia_entre_planetas_millas = distancia_entre_planetas * 0.621\n",
    "print(\"la distancia entre jupiter y la tierra es de: \" + (str(abs(distancia_entre_planetas)) +\" Km\"))\n",
    "print(\"La distancia entre jupiter y la tierra en Millas es de: \" + str(abs(distancia_entre_planetas_millas)) + \" m\")"
   ]
  },
  {
   "cell_type": "markdown",
   "metadata": {},
   "source": [
    "## Ejercicio 2 convierte cadenas en números y usa valores absolutos"
   ]
  },
  {
   "cell_type": "code",
   "execution_count": 21,
   "metadata": {},
   "outputs": [
    {
     "name": "stdout",
     "output_type": "stream",
     "text": [
      "50300000\n",
      "31236300.0\n"
     ]
    }
   ],
   "source": [
    "#creamos variables por teclado\n",
    "primer_Planeta = input('Introduzca la distancia del sol para el primer planeta en KM')\n",
    "segundo_Planeta = input('Introduzca la distancia del sol para el segundo planeta en KM')\n",
    "\n",
    "#convertimos los datos obtenidos a numeros enteros\n",
    "primer_Planeta = int(primer_Planeta)\n",
    "segundo_Planeta = int(segundo_Planeta)\n",
    "\n",
    "#Realizamos la operacion para calcular las distancias\n",
    "distancia_en_km = primer_Planeta - segundo_Planeta\n",
    "print(abs(distancia_en_km))\n",
    "\n",
    "#Convertimos para mostrarlos en Millas\n",
    "distancia_en_Millas = distancia_en_km * 0.621\n",
    "print(abs(distancia_en_Millas))"
   ]
  }
 ],
 "metadata": {
  "interpreter": {
   "hash": "61e09be0b52ddc6c23a878f1f0f1c0d3f6344755d62bc9bb3748bdd7c05b2e40"
  },
  "kernelspec": {
   "display_name": "Python 3.10.2 ('env': venv)",
   "language": "python",
   "name": "python3"
  },
  "language_info": {
   "codemirror_mode": {
    "name": "ipython",
    "version": 3
   },
   "file_extension": ".py",
   "mimetype": "text/x-python",
   "name": "python",
   "nbconvert_exporter": "python",
   "pygments_lexer": "ipython3",
   "version": "3.10.2"
  },
  "orig_nbformat": 4
 },
 "nbformat": 4,
 "nbformat_minor": 2
}
