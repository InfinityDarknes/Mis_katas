{
 "cells": [
  {
   "cell_type": "markdown",
   "metadata": {},
   "source": [
    "# <center>Administrar datos con diccionarios Kata #8</center>"
   ]
  },
  {
   "cell_type": "markdown",
   "metadata": {},
   "source": [
    "### Ejercicio 1: Creación de diccionarios de Python"
   ]
  },
  {
   "cell_type": "code",
   "execution_count": 15,
   "metadata": {},
   "outputs": [
    {
     "name": "stdout",
     "output_type": "stream",
     "text": [
      "marte tiene 2 lunas\n",
      "marte tiene una circunferencia polar de : 6752 km\n"
     ]
    }
   ],
   "source": [
    "#Agregamos nuestro diccionario sobre planetas\n",
    "planeta = {\n",
    "    'nombre': 'marte',\n",
    "    'lunas': 2\n",
    "}\n",
    "print(f'{planeta[\"nombre\"]} tiene {planeta[\"lunas\"]} lunas')\n",
    "#Agregamos un campo mas a nuestro diccionario con []\n",
    "planeta['circunferencia']={\n",
    "    'polar': 6752,\n",
    "    'equatorial': 6792\n",
    "}\n",
    "print(f'{planeta[\"nombre\"]} tiene una circunferencia polar de : {planeta[\"circunferencia\"][\"polar\"]} km')"
   ]
  },
  {
   "cell_type": "markdown",
   "metadata": {},
   "source": [
    "### Ejercicio 2: Programación dinámica con diccionarios"
   ]
  },
  {
   "cell_type": "code",
   "execution_count": 33,
   "metadata": {},
   "outputs": [
    {
     "name": "stdout",
     "output_type": "stream",
     "text": [
      "Numero total de lunas es de: 214\n",
      "17.833333333333332\n"
     ]
    }
   ],
   "source": [
    "#Planetas y lunas\n",
    "Planetas_lunas= {\n",
    "    'mercurio': 0,\n",
    "    'venus': 0,\n",
    "    'tierra': 1,\n",
    "    'marte': 2,\n",
    "    'jupiter': 79,\n",
    "    'saturno': 82,\n",
    "    'urano': 27,\n",
    "    'neptuno': 14,\n",
    "    'pluton': 5,\n",
    "    'haumea': 2,\n",
    "    'makemake': 1,\n",
    "    'eris': 1\n",
    "}\n",
    "lunas = Planetas_lunas.values()\n",
    "\n",
    "planetas = len(Planetas_lunas.keys())\n",
    "total_lunas=0\n",
    "for luna in lunas:\n",
    "    total_lunas = total_lunas + luna\n",
    "    \n",
    "print('Numero total de lunas es de: ' + str(total_lunas))\n",
    "#calcular el promedio\n",
    "promedio= total_lunas/planetas\n",
    "print(promedio)\n"
   ]
  }
 ],
 "metadata": {
  "interpreter": {
   "hash": "61e09be0b52ddc6c23a878f1f0f1c0d3f6344755d62bc9bb3748bdd7c05b2e40"
  },
  "kernelspec": {
   "display_name": "Python 3.10.2 ('env': venv)",
   "language": "python",
   "name": "python3"
  },
  "language_info": {
   "codemirror_mode": {
    "name": "ipython",
    "version": 3
   },
   "file_extension": ".py",
   "mimetype": "text/x-python",
   "name": "python",
   "nbconvert_exporter": "python",
   "pygments_lexer": "ipython3",
   "version": "3.10.2"
  },
  "orig_nbformat": 4
 },
 "nbformat": 4,
 "nbformat_minor": 2
}
