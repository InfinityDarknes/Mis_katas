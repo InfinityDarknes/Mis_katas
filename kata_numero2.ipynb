{
 "cells": [
  {
   "cell_type": "markdown",
   "metadata": {},
   "source": [
    "# Kata Numero 2 Trabajando en entornos Virtuales"
   ]
  },
  {
   "cell_type": "markdown",
   "metadata": {},
   "source": [
    "### Creación del entorno virtual\n",
    "Para poder crear el entorno virual tenemos que iniciar nuestra consola (terminal) y en ella dirigirnos a nuestra carpeta donde queremos trabajar con cd buscamos nuestra carpeta  \n",
    "y proceguimos a ejecutar el siguiente comando en mi caso es la siguiente  \n",
    "\n",
    "\n",
    "<img src=\"Consola1.jpg\">"
   ]
  },
  {
   "cell_type": "markdown",
   "metadata": {},
   "source": [
    "Una vez finalizado el comando nos creara una carpeta env con los siguientes archivos.\n",
    "\n",
    "<img src=\"Carpetas1.jpg\">"
   ]
  },
  {
   "cell_type": "markdown",
   "metadata": {},
   "source": [
    "## Activar el entorno virtual e instalar bibliotecas"
   ]
  },
  {
   "cell_type": "markdown",
   "metadata": {},
   "source": [
    "A continuacion tenemos que activar el entorno virtual con el comando ```env\\bin\\activate ```  para activar la consola \n",
    "una vez activada nos daremos cuenta que esta activa por que nos enseñara (env) - >.  \n",
    "a continuación procederemos a instalar una biblioteca o un paquete usaremos el siguiente codigo ```pip install python-dateutil ```\n",
    "\n",
    "<img src=\"Consola2.jpg\">\n",
    "\n",
    "sabremos que se a instalado correctamente ya que no nos presentara ningun error\n"
   ]
  },
  {
   "cell_type": "markdown",
   "metadata": {},
   "source": [
    "### Como saber que paquetes o bibliotecas tenemos instalados\n",
    "\n",
    "para esto solo debemos ejecutar el siguiente codigo ```pip freeze```  esto nos mostrara todas los paquetes\n",
    "\n",
    "  <img src = \"Consola3.jpg\">\n"
   ]
  },
  {
   "cell_type": "markdown",
   "metadata": {},
   "source": [
    "## como salir del entorno virtual\n",
    "para ello necesitamos ejecutar la siguiente linea de codigo ```deactivate``` con ello nos regresa al entorno normal del pc."
   ]
  }
 ],
 "metadata": {
  "interpreter": {
   "hash": "61e09be0b52ddc6c23a878f1f0f1c0d3f6344755d62bc9bb3748bdd7c05b2e40"
  },
  "kernelspec": {
   "display_name": "Python 3.10.2 ('env': venv)",
   "language": "python",
   "name": "python3"
  },
  "language_info": {
   "codemirror_mode": {
    "name": "ipython",
    "version": 3
   },
   "file_extension": ".py",
   "mimetype": "text/x-python",
   "name": "python",
   "nbconvert_exporter": "python",
   "pygments_lexer": "ipython3",
   "version": "3.10.2"
  },
  "orig_nbformat": 4
 },
 "nbformat": 4,
 "nbformat_minor": 2
}
