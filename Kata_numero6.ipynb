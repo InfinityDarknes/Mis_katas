{
 "cells": [
  {
   "cell_type": "markdown",
   "metadata": {},
   "source": [
    "# <center>Introduccion a las listas Kata #6</center>"
   ]
  },
  {
   "cell_type": "markdown",
   "metadata": {},
   "source": [
    "## Ejercicio 1: Usar listas para almacenar nombres de planetas"
   ]
  },
  {
   "cell_type": "code",
   "execution_count": 13,
   "metadata": {},
   "outputs": [
    {
     "name": "stdout",
     "output_type": "stream",
     "text": [
      "El numero total de planetas en el sistema solar es de: 8 Planetas\n",
      "El numero total de planetas en el sistema solar contando a Pluton es de: 9\n"
     ]
    }
   ],
   "source": [
    "# Creamos una lista con los 8 planetas del sistema solar pero no agregamos a pluton\n",
    "planetas = ['Mercurio','Venus','Tierra','Marte','Jupiter','Saturno','Urano','Neptuno']\n",
    "\n",
    "#Imprimimos el numero total de planetas recordar que se hace con el melentodo len( )\n",
    "print(\"El numero total de planetas en el sistema solar es de: \" + str(len(planetas))+ \" Planetas\")\n",
    "\n",
    "#Ahora nos toca agregar el ultimo planeta que nos falta, con el metodo append\n",
    "planetas.append('Pluton')\n",
    "#Ahora mostramos el numero total de planetas y el ultimo planeta\n",
    "print(\"El numero total de planetas en el sistema solar contando a \" + planetas[8] +\" es de: \" + str(len(planetas)))"
   ]
  },
  {
   "cell_type": "markdown",
   "metadata": {},
   "source": [
    "## Ejercicio 2: Trabajando con datos de una lista"
   ]
  },
  {
   "cell_type": "code",
   "execution_count": 31,
   "metadata": {},
   "outputs": [
    {
     "name": "stdout",
     "output_type": "stream",
     "text": [
      "El planeta Tierra es el planeta numero 3 del sistema solar\n",
      "Los planetas mas cercanos al sol de Tierra son:\n",
      "['Mercurio', 'Venus']\n",
      "Los planetas mas cercanos al sol de Tierra son:\n",
      "['Marte', 'Jupiter', 'Saturno', 'Urano', 'Neptuno']\n"
     ]
    }
   ],
   "source": [
    "planetas2 = ['Mercurio','Venus','Tierra','Marte','Jupiter','Saturno','Urano','Neptuno']\n",
    "nombre_planeta = input('Introduce el nombre del planeta que quieres buscar por favor la primera letra en mayuscula')\n",
    "\n",
    "# Buscamos el planeta\n",
    "indice_planeta = planetas2.index(nombre_planeta)\n",
    "indice_planeta_Real = indice_planeta + 1\n",
    "print(\"El planeta \" + planetas[(indice_planeta)] + \" es el planeta numero \" + str(indice_planeta_Real) + \" del sistema solar\" )\n",
    "\n",
    "#Mostrar los planetas mas cercanos del sol al del usuario eligio\n",
    "print(\"Los planetas mas cercanos al sol de \" + nombre_planeta + \" son:\")\n",
    "print(planetas2[0:indice_planeta])\n",
    "\n",
    "#Mostrar los planetas mas alejados del son al del usuario elegio\n",
    "print(\"Los planetas mas cercanos al sol de \" + nombre_planeta + \" son:\")\n",
    "print(planetas2[indice_planeta_Real:])"
   ]
  }
 ],
 "metadata": {
  "interpreter": {
   "hash": "61e09be0b52ddc6c23a878f1f0f1c0d3f6344755d62bc9bb3748bdd7c05b2e40"
  },
  "kernelspec": {
   "display_name": "Python 3.10.2 ('env': venv)",
   "language": "python",
   "name": "python3"
  },
  "language_info": {
   "codemirror_mode": {
    "name": "ipython",
    "version": 3
   },
   "file_extension": ".py",
   "mimetype": "text/x-python",
   "name": "python",
   "nbconvert_exporter": "python",
   "pygments_lexer": "ipython3",
   "version": "3.10.2"
  },
  "orig_nbformat": 4
 },
 "nbformat": 4,
 "nbformat_minor": 2
}
