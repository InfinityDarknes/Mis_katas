{
 "cells": [
  {
   "cell_type": "markdown",
   "metadata": {},
   "source": [
    "# <center>Estructuras de control Kata #7</center>"
   ]
  },
  {
   "cell_type": "markdown",
   "metadata": {},
   "source": [
    "### Ejercicio 1: Creación de un bucle \"while\""
   ]
  },
  {
   "cell_type": "code",
   "execution_count": 13,
   "metadata": {},
   "outputs": [
    {
     "name": "stdout",
     "output_type": "stream",
     "text": [
      "['mercurio', 'venus', 'tierra', 'marte', 'jupiter', 'urano', 'neptuno', 'pluton']\n"
     ]
    }
   ],
   "source": [
    "#Creacion de las variables\n",
    "nuevo_planeta = ''\n",
    "planetas = []\n",
    "\n",
    "#Creamos un ciclo while que se ejecutara mientras el usuario no escriba la palabra done, e ira ingresando planetas a una lista\n",
    "while nuevo_planeta.lower() != 'done':\n",
    "    if nuevo_planeta:\n",
    "        planetas.append(nuevo_planeta)\n",
    "    nuevo_planeta = input('ingrese un nuevo nombre de planeta o que escriba done si ha terminado de ingresar nombres de planeta.')\n",
    "\n",
    "print(planetas)\n"
   ]
  },
  {
   "cell_type": "markdown",
   "metadata": {},
   "source": [
    "#### Ejercicio 2: Creación de un ciclo \"for\""
   ]
  },
  {
   "cell_type": "code",
   "execution_count": 14,
   "metadata": {},
   "outputs": [
    {
     "name": "stdout",
     "output_type": "stream",
     "text": [
      "mercurio\n",
      "venus\n",
      "tierra\n",
      "marte\n",
      "jupiter\n",
      "urano\n",
      "neptuno\n",
      "pluton\n"
     ]
    }
   ],
   "source": [
    "#Haremos un ciclo for para imprimir la lista de planetas que guardamos en el anterior programa\n",
    "for planeta in planetas:\n",
    "    print(planeta)"
   ]
  }
 ],
 "metadata": {
  "interpreter": {
   "hash": "61e09be0b52ddc6c23a878f1f0f1c0d3f6344755d62bc9bb3748bdd7c05b2e40"
  },
  "kernelspec": {
   "display_name": "Python 3.10.2 ('env': venv)",
   "language": "python",
   "name": "python3"
  },
  "language_info": {
   "codemirror_mode": {
    "name": "ipython",
    "version": 3
   },
   "file_extension": ".py",
   "mimetype": "text/x-python",
   "name": "python",
   "nbconvert_exporter": "python",
   "pygments_lexer": "ipython3",
   "version": "3.10.2"
  },
  "orig_nbformat": 4
 },
 "nbformat": 4,
 "nbformat_minor": 2
}
