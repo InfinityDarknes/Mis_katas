{
 "cells": [
  {
   "cell_type": "markdown",
   "metadata": {},
   "source": [
    "# CADENAS"
   ]
  },
  {
   "cell_type": "markdown",
   "metadata": {},
   "source": [
    "# Primer Ejercicio \"Dividir Texto y Cambiar palabras con el metodo replace\""
   ]
  },
  {
   "cell_type": "code",
   "execution_count": null,
   "metadata": {},
   "outputs": [],
   "source": [
    "# Variable donde pondremos nuestro texto\n",
    "texto = \"\"\"Datos interesantes sobre la Luna. La Luna es el único satélite de la Tierra. Hay varios datos interesantes sobre la Luna y cómo afecta la vida aquí en la Tierra.\n",
    "En promedio, la Luna se aleja 4 cm de la Tierra cada año. Esta deriva anual no es lo suficientemente significativa como para causar efectos inmediatos en la Tierra. La luz del día más alta\n",
    "temperatura de la Luna es de 127 C.\"\"\"\n",
    "\n",
    "# Dividimos el texto con .split mas la condicion en este caso cada que encuentre un punto .\n",
    "texto_dividido = texto.split('. ')\n",
    "print(texto)\n",
    "print(\"............................................................\")\n",
    "# Palabras claves que queremos buscar tener cuidado con la palabra en este caso convertire el texto a español para una mejor interpretacion\n",
    "palabras_clave = [\"promedio\", \"temperatura\", \"distancia\"]\n",
    "# Necesitamos un ciclo para recorrer la cadena y buscar las palabras que necesitamos\n",
    "for centencia in texto_dividido:\n",
    "    for palabra_clave in palabras_clave:\n",
    "        if palabra_clave in centencia:\n",
    "            print(centencia)\n",
    "            break\n",
    "print(\"............................................................\")\n",
    "# Ciclo para cambiar C a Celsius\n",
    "for centencia in texto_dividido:\n",
    "    for palabra_clave in palabras_clave:\n",
    "        if palabra_clave in centencia:\n",
    "            print(centencia.replace('C', 'Celcius'))\n",
    "            break\n",
    "\n"
   ]
  },
  {
   "cell_type": "markdown",
   "metadata": {},
   "source": [
    "# Ejercicio 2 Trabajar con formateados de texto en este caso vamos a darle un formato a un texto nos debe quedar de la siguiente manera  \n",
    "\n",
    "Gravity Facts about Ganymede\n",
    "\n",
    "Planet Name: Mars\n",
    "Gravity on Ganymede: 1.4300000000000002 m/s2"
   ]
  },
  {
   "cell_type": "code",
   "execution_count": null,
   "metadata": {},
   "outputs": [],
   "source": [
    "# DATOS CON LOS QUE VAMOS A TRABAJAR\n",
    "nombre = \"Luna\"\n",
    "gravedad = 0.00162 # Kilometros por segundo Km/s\n",
    "planeta = \"Tierra\"\n",
    "\n",
    "titulo = f'Datos de la gravedad sobre {nombre}'\n",
    "\n",
    "#Creamos la plantilla que usaremos\n",
    "hechos = f\"\"\"{'-'*80}\n",
    "Nombre del planeta: {planeta}\n",
    "Gravedad en {nombre}: {gravedad * 1000} m/s2\n",
    "\"\"\"\n",
    "#Union de ambos formatos\n",
    "template = f\"\"\"{titulo.title()}\n",
    "{hechos}\n",
    "\"\"\"\n",
    "#print(template)\n",
    "\n",
    "# Nuevos datos de otro planeta\n",
    "planeta = 'Marte '\n",
    "gravedad = 0.00143\n",
    "nombre = 'ganimedes '\n",
    "# Comprobamos la plantilla Nueva\n",
    "print(template)\n",
    "\n",
    "nueva_plantilla = \"\"\"\n",
    "Datos de gravedad sobre: {nombre}\n",
    "----------------------------------------------------------\n",
    "Nombre del planeta: {planeta}\n",
    "Gravedad en {nombre}: {gravedad} m/s2\n",
    "\"\"\"\n",
    "\n",
    "# Pista: print(nueva_plantilla.format(variables))\n",
    "print(new_template.format(nombre=nombre, planeta=planeta, gravedad=gravedad*1000))\n"
   ]
  }
 ],
 "metadata": {
  "interpreter": {
   "hash": "61e09be0b52ddc6c23a878f1f0f1c0d3f6344755d62bc9bb3748bdd7c05b2e40"
  },
  "kernelspec": {
   "display_name": "Python 3.10.2 ('env': venv)",
   "language": "python",
   "name": "python3"
  },
  "language_info": {
   "codemirror_mode": {
    "name": "ipython",
    "version": 3
   },
   "file_extension": ".py",
   "mimetype": "text/x-python",
   "name": "python",
   "nbconvert_exporter": "python",
   "pygments_lexer": "ipython3",
   "version": "3.10.2"
  },
  "orig_nbformat": 4
 },
 "nbformat": 4,
 "nbformat_minor": 2
}
