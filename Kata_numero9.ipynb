{
 "cells": [
  {
   "cell_type": "markdown",
   "metadata": {},
   "source": [
    "# <center>Uso de funciones en Python Kata#9</center>"
   ]
  },
  {
   "cell_type": "markdown",
   "metadata": {},
   "source": [
    "#### <center>Ejercicio1 Trabajar con argumentos en funciones</center>"
   ]
  },
  {
   "cell_type": "code",
   "execution_count": 47,
   "metadata": {},
   "outputs": [
    {
     "name": "stdout",
     "output_type": "stream",
     "text": [
      "Medidor de Combustible:\n",
      "    Promedio Combustible 56.666666666666664% Tanque Principal 20% Tanque reserva 50% Tanque especial 100%\n",
      "    \n",
      "Medidor de Combustible:80.0\n",
      "    Tanque Principal 88%\n",
      "    Tanque reserva 76%\n",
      "    Tanque especial 70%\n",
      "    \n"
     ]
    }
   ],
   "source": [
    "#Crearemos nuestros argumentos en este caso nos piden realizar 3 lecturas que seran los tanques de combustible de nuestra nave\n",
    "def medidor_combustible(tanque_Principal, tanque_reserva, tanque_especial ):\n",
    "    promedio_Combustible = (tanque_Principal +tanque_reserva + tanque_especial)/3\n",
    "    return f\"\"\"Medidor de Combustible:\n",
    "    Promedio Combustible {promedio_Combustible}% Tanque Principal {tanque_Principal}% Tanque reserva {tanque_reserva}% Tanque especial {tanque_especial}%\n",
    "    \"\"\"\n",
    "    # Llamamos a la función que genera el reporte print(funcion(tanque1, tanque2, tanque3))\n",
    "print(medidor_combustible(20,50,100))\n",
    "\n",
    "#Funcion para hacer el promedio\n",
    "def promedio(valores):\n",
    "    total = sum(valores)\n",
    "    numero_de_datos = len(valores)\n",
    "    return total/numero_de_datos    \n",
    "promedio([80,85,51])\n",
    "\n",
    "#actualizamos el reporte copiamos el de arriva y le agregamos nuestra nueva funcion de promedio\n",
    "def medidor_combustible(tanque_Principal, tanque_reserva, tanque_especial ):\n",
    "    return f\"\"\"Medidor de Combustible:{promedio([tanque_Principal,tanque_reserva,tanque_reserva])}\n",
    "    Tanque Principal {tanque_Principal}%\n",
    "    Tanque reserva {tanque_reserva}%\n",
    "    Tanque especial {tanque_especial}%\n",
    "    \"\"\"\n",
    "print(medidor_combustible(88,76,70))"
   ]
  },
  {
   "cell_type": "markdown",
   "metadata": {},
   "source": [
    "### <center>Ejercicio 2: Trabajo con argumentos de palabra clave</center>"
   ]
  },
  {
   "cell_type": "code",
   "execution_count": 48,
   "metadata": {},
   "outputs": [
    {
     "name": "stdout",
     "output_type": "stream",
     "text": [
      "\n",
      "    Bitacora de Buzz Lighyear\n",
      "    Hora de lanzamiento : 16:19:33\n",
      "    Tiempo de viaje: 60 Horas\n",
      "    Destino: Marte\n",
      "    Total de combustible: 75.0%\n",
      "    \n",
      "\n",
      "    Destino de la mision: Mercurio\n",
      "    Total de tiempo de viaje 98 minutos\n",
      "    Total de la recerba de combustible: 320000\n",
      "    \n",
      "\n",
      "    Destino de la mision: Jupiter\n",
      "    Total de tiempo de viaje 80 minutos\n",
      "    Total de la recerba de combustible: 140000\n",
      "    principal tanque --> 40000 litros sobrantes\n",
      "secundario tanque --> 100000 litros sobrantes\n",
      "\n"
     ]
    }
   ],
   "source": [
    "# Función con un informe preciso de la misión. Considera hora de prelanzamiento, tiempo de vuelo, destino, tanque externo y tanque interno\n",
    "def reporte_Buzz_Lightyear(hora_lanzamiento, tiempo_Vuelo, destino, tanque_interno, tanque_externo):\n",
    "    return f\"\"\"\n",
    "    Bitacora de Buzz Lighyear\n",
    "    Hora de lanzamiento : {hora_lanzamiento}\n",
    "    Tiempo de viaje: {tiempo_Vuelo} Horas\n",
    "    Destino: {destino}\n",
    "    Total de combustible: {(tanque_interno + tanque_externo)/2}%\n",
    "    \"\"\"\n",
    "import time\n",
    "print(reporte_Buzz_Lightyear(time.strftime('%H:%M:%S', time.localtime()),60,\"Marte\",50,100))\n",
    "\n",
    "def reporte_Buzz_Lightyear(destino,*minutos,**recerba_de_combustible):\n",
    "    return f\"\"\"\n",
    "    Destino de la mision: {destino}\n",
    "    Total de tiempo de viaje {sum(minutos)} minutos\n",
    "    Total de la recerba de combustible: {sum(recerba_de_combustible.values())}\n",
    "    \"\"\"\n",
    "print(reporte_Buzz_Lightyear(\"Mercurio\",12,15,51,20, principal=300000, secundario=20000 ))\n",
    "\n",
    "#Debido a que el combustible que queda en los tanques es específico de cada tanque, actualiza la función para usar el nombre de cada tanque en el informe:\n",
    "def reporte_Buzz_Lightyear(destino,*minutos,**recerba_de_combustible):\n",
    "    reporte = f\"\"\"\n",
    "    Destino de la mision: {destino}\n",
    "    Total de tiempo de viaje {sum(minutos)} minutos\n",
    "    Total de la recerba de combustible: {sum(recerba_de_combustible.values())}\n",
    "    \"\"\"\n",
    "    for nombre_tanque, litros, in recerba_de_combustible.items():\n",
    "        reporte += f\"{nombre_tanque} tanque --> {litros} litros sobrantes\\n\"\n",
    "    return reporte\n",
    "print(reporte_Buzz_Lightyear(\"Jupiter\",10,20,50, principal= 40000, secundario= 100000))\n"
   ]
  }
 ],
 "metadata": {
  "interpreter": {
   "hash": "61e09be0b52ddc6c23a878f1f0f1c0d3f6344755d62bc9bb3748bdd7c05b2e40"
  },
  "kernelspec": {
   "display_name": "Python 3.10.2 ('env': venv)",
   "language": "python",
   "name": "python3"
  },
  "language_info": {
   "codemirror_mode": {
    "name": "ipython",
    "version": 3
   },
   "file_extension": ".py",
   "mimetype": "text/x-python",
   "name": "python",
   "nbconvert_exporter": "python",
   "pygments_lexer": "ipython3",
   "version": "3.10.2"
  },
  "orig_nbformat": 4
 },
 "nbformat": 4,
 "nbformat_minor": 2
}
